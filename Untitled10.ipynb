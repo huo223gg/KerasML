{
 "cells": [
  {
   "cell_type": "code",
   "execution_count": 4,
   "metadata": {},
   "outputs": [
    {
     "ename": "ImportError",
     "evalue": "No module named 'mxnet'",
     "output_type": "error",
     "traceback": [
      "\u001b[1;31m---------------------------------------------------------------------------\u001b[0m",
      "\u001b[1;31mImportError\u001b[0m                               Traceback (most recent call last)",
      "\u001b[1;32m<ipython-input-4-9bf66e6540db>\u001b[0m in \u001b[0;36m<module>\u001b[1;34m()\u001b[0m\n\u001b[0;32m      1\u001b[0m \u001b[1;32mimport\u001b[0m \u001b[0mnumpy\u001b[0m \u001b[1;32mas\u001b[0m \u001b[0mnp\u001b[0m\u001b[1;33m\u001b[0m\u001b[0m\n\u001b[1;32m----> 2\u001b[1;33m \u001b[1;32mimport\u001b[0m \u001b[0mmxnet\u001b[0m \u001b[1;32mas\u001b[0m \u001b[0mmx\u001b[0m\u001b[1;33m\u001b[0m\u001b[0m\n\u001b[0m\u001b[0;32m      3\u001b[0m \u001b[1;32mfrom\u001b[0m \u001b[0mmxnet\u001b[0m \u001b[1;32mimport\u001b[0m \u001b[0mgluon\u001b[0m\u001b[1;33m\u001b[0m\u001b[0m\n\u001b[0;32m      4\u001b[0m \u001b[1;32mfrom\u001b[0m \u001b[0mmxboard\u001b[0m \u001b[1;32mimport\u001b[0m \u001b[0mSummaryWriter\u001b[0m\u001b[1;33m\u001b[0m\u001b[0m\n\u001b[0;32m      5\u001b[0m \u001b[1;33m\u001b[0m\u001b[0m\n",
      "\u001b[1;31mImportError\u001b[0m: No module named 'mxnet'"
     ]
    }
   ],
   "source": [
    "import numpy as np\n",
    "import mxnet as mx\n",
    "from mxnet import gluon\n",
    "from mxboard import SummaryWriter\n",
    "\n",
    "\n",
    "batch_size = 65\n",
    "\n",
    "\n",
    "def transformer(data, label):\n",
    "    data = data.reshape((-1,)).astype(np.float32)/255\n",
    "    return data, label\n",
    "\n",
    "train_data = gluon.data.DataLoader(\n",
    "    gluon.data.vision.MNIST('./data', train=True, transform=transformer),\n",
    "    batch_size=batch_size, shuffle=False, last_batch='discard')\n",
    "\n",
    "initialized = False\n",
    "embedding = None\n",
    "labels = None\n",
    "images = None\n",
    "\n",
    "for i, (data, label) in enumerate(train_data):\n",
    "    if i >= 1:\n",
    "        # only fetch the first batche of images, i.e. 65 images -> 8*9 sprite image\n",
    "        break\n",
    "    if initialized:\n",
    "        embedding = mx.nd.concat(*(embedding, data), dim=0)\n",
    "        labels = mx.nd.concat(*(labels, label), dim=0)\n",
    "        images = mx.nd.concat(*(images, data.reshape(batch_size, 1, 28, 28)), dim=0)\n",
    "    else:\n",
    "        embedding = data\n",
    "        labels = label\n",
    "        images = data.reshape(batch_size, 1, 28, 28)\n",
    "        initialized = True\n",
    "\n",
    "with SummaryWriter(logdir='./logs') as sw:\n",
    "    sw.add_embedding(tag='mnist', embedding=embedding, labels=labels, images=images)"
   ]
  },
  {
   "cell_type": "code",
   "execution_count": null,
   "metadata": {},
   "outputs": [],
   "source": []
  }
 ],
 "metadata": {
  "kernelspec": {
   "display_name": "Python 3",
   "language": "python",
   "name": "python3"
  },
  "language_info": {
   "codemirror_mode": {
    "name": "ipython",
    "version": 3
   },
   "file_extension": ".py",
   "mimetype": "text/x-python",
   "name": "python",
   "nbconvert_exporter": "python",
   "pygments_lexer": "ipython3",
   "version": "3.5.5"
  }
 },
 "nbformat": 4,
 "nbformat_minor": 2
}
