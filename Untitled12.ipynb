{
 "cells": [
  {
   "cell_type": "code",
   "execution_count": 7,
   "metadata": {},
   "outputs": [
    {
     "name": "stdout",
     "output_type": "stream",
     "text": [
      "1.998336850707697 0.16158177649891026\n",
      "mse : 0.009545708640963421\n"
     ]
    }
   ],
   "source": [
    "# 0. 사용할 패키지 불러오기\n",
    "import numpy as np\n",
    "from sklearn.metrics import mean_squared_error\n",
    "import random\n",
    "\n",
    "# 1. 데이터셋 생성하기\n",
    "x_train = np.random.random((1000, 1))\n",
    "y_train = x_train * 2 + np.random.random((1000, 1)) / 3.0\n",
    "x_test = np.random.random((100, 1))\n",
    "y_test = x_test * 2 + np.random.random((100, 1)) / 3.0\n",
    "\n",
    "x_train = x_train.reshape(1000,)\n",
    "y_train = y_train.reshape(1000,)\n",
    "x_test = x_test.reshape(100,)\n",
    "y_test = y_test.reshape(100,)\n",
    "\n",
    "# 2. 모델 구성하기\n",
    "w = np.cov(x_train, y_train, bias=1)[0,1] / np.var(x_train)\n",
    "b = np.average(y_train) - w * np.average(x_train)\n",
    "\n",
    "print(w, b)\n",
    "\n",
    "# 3. 모델 평가하기\n",
    "y_predict = w * x_test + b\n",
    "mse = mean_squared_error(y_test, y_predict)\n",
    "print('mse : ' + str(mse))\n",
    "\n"
   ]
  },
  {
   "cell_type": "code",
   "execution_count": null,
   "metadata": {},
   "outputs": [],
   "source": []
  }
 ],
 "metadata": {
  "kernelspec": {
   "display_name": "Python 3",
   "language": "python",
   "name": "python3"
  },
  "language_info": {
   "codemirror_mode": {
    "name": "ipython",
    "version": 3
   },
   "file_extension": ".py",
   "mimetype": "text/x-python",
   "name": "python",
   "nbconvert_exporter": "python",
   "pygments_lexer": "ipython3",
   "version": "3.5.5"
  }
 },
 "nbformat": 4,
 "nbformat_minor": 2
}
