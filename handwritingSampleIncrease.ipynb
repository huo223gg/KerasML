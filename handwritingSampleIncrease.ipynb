{
 "cells": [
  {
   "cell_type": "code",
   "execution_count": 8,
   "metadata": {},
   "outputs": [
    {
     "name": "stdout",
     "output_type": "stream",
     "text": [
      "handwriting_shape/train/circle\\circle001.png\n",
      "handwriting_shape/train/circle\\circle002.png\n",
      "handwriting_shape/train/circle\\circle003.png\n",
      "handwriting_shape/train/circle\\circle004.png\n",
      "handwriting_shape/train/circle\\circle005.png\n",
      "handwriting_shape/train/circle\\circle006.png\n",
      "handwriting_shape/train/circle\\circle007.png\n",
      "handwriting_shape/train/circle\\circle008.png\n",
      "handwriting_shape/train/circle\\circle009.png\n",
      "handwriting_shape/train/circle\\circle010.png\n",
      "handwriting_shape/train/circle\\circle011.png\n",
      "handwriting_shape/train/circle\\circle012.png\n",
      "handwriting_shape/train/circle\\circle013.png\n",
      "handwriting_shape/train/circle\\circle014.png\n",
      "handwriting_shape/train/circle\\circle015.png\n"
     ]
    }
   ],
   "source": [
    "import numpy as np\n",
    "import os\n",
    "from os import listdir\n",
    "from os.path import isfile, join\n",
    "from PIL import Image\n",
    " \n",
    " \n",
    " \n",
    "np.random.seed(3)\n",
    " \n",
    "from keras.preprocessing.image import ImageDataGenerator, array_to_img, img_to_array, load_img\n",
    " \n",
    " \n",
    "data_datagen = ImageDataGenerator(rescale=1./255)\n",
    " \n",
    "data_datagen = ImageDataGenerator(rescale=1./255,\n",
    "                                  rotation_range=10,\n",
    "                                   width_shift_range=0.2,\n",
    "                                   height_shift_range=0.2,\n",
    "                                   shear_range=0.7,\n",
    "                                   zoom_range=[0.9, 2.2],\n",
    "                                   horizontal_flip=True,\n",
    "                                   vertical_flip=True,\n",
    "                                   fill_mode='nearest')\n",
    " \n",
    " \n",
    "filename_in_dir = [] \n",
    " \n",
    "for root, dirs, files in os.walk('handwriting_shape/train/circle'):\n",
    "    for  fname in files:\n",
    "        full_fname = os.path.join(root, fname)\n",
    "        filename_in_dir.append(full_fname)\n",
    " \n",
    "for file_image in filename_in_dir:\n",
    "    print(file_image)\n",
    "    img = load_img(file_image) \n",
    "    x = img_to_array(img)\n",
    "    x = x.reshape((1,) + x.shape)\n",
    " \n",
    "    i = 0\n",
    " \n",
    "    for batch in data_datagen.flow(x,save_to_dir='handwriting_shape/train/cir', save_prefix='cir', save_format='png'):\n",
    "        i += 1\n",
    "        if i > 3:\n",
    "            break"
   ]
  },
  {
   "cell_type": "code",
   "execution_count": null,
   "metadata": {},
   "outputs": [],
   "source": []
  }
 ],
 "metadata": {
  "kernelspec": {
   "display_name": "Python 3",
   "language": "python",
   "name": "python3"
  },
  "language_info": {
   "codemirror_mode": {
    "name": "ipython",
    "version": 3
   },
   "file_extension": ".py",
   "mimetype": "text/x-python",
   "name": "python",
   "nbconvert_exporter": "python",
   "pygments_lexer": "ipython3",
   "version": "3.5.5"
  }
 },
 "nbformat": 4,
 "nbformat_minor": 2
}
